{
 "cells": [
  {
   "cell_type": "markdown",
   "metadata": {},
   "source": [
    "<p style=\"text-align:center\">\n",
    "    <a href=\"https://skills.network/?utm_medium=Exinfluencer&utm_source=Exinfluencer&utm_content=000026UJ&utm_term=10006555&utm_id=NA-SkillsNetwork-Channel-SkillsNetworkCoursesIBMSkillsNetworkBD0231ENCoursera2789-2023-01-01\">\n",
    "    <img src=\"https://cf-courses-data.s3.us.cloud-object-storage.appdomain.cloud/assets/logos/SN_web_lightmode.png\" width=\"200\" alt=\"Skills Network Logo\">\n",
    "    </a>\n",
    "</p>\n"
   ]
  },
  {
   "cell_type": "markdown",
   "metadata": {},
   "source": [
    "![](http://spark.apache.org/images/spark-logo.png)\n"
   ]
  },
  {
   "cell_type": "markdown",
   "metadata": {},
   "source": [
    "# Leveraging Apache Spark for Efficient Retail Data Processing at RetailWorld\n"
   ]
  },
  {
   "cell_type": "markdown",
   "metadata": {},
   "source": [
    "Estimated time needed: **30** minutes\n"
   ]
  },
  {
   "cell_type": "markdown",
   "metadata": {},
   "source": [
    "## Objectives\n",
    "\n",
    "After completing this lab you will be able to:\n",
    "\n",
    " - Understand the Distributed Architecture of Spark in the context of a Real Time Problem\n",
    " - Perform Data Parsing and Cleaning of Data\n",
    " - Perform various aggregations to derive insights from the cleaned data\n",
    " - Save the aggregated results to HDFS (Hadoop Distributed File System) for further storage and processing.\n"
   ]
  },
  {
   "cell_type": "markdown",
   "metadata": {},
   "source": [
    "## Background\n",
    "RetailWorld, a prominent retail chain with numerous stores across Metropolia, faces the challenge of processing and analyzing substantial volumes of daily sales data. With real-time data streaming from multiple sources, RetailWorld needs to clean, transform, and aggregate this data to derive actionable insights such as total Sales and Revenue per Product, Total Sales and Revenue per Store, Sales and Revenue per Promotion Type and Stock Analysis per Product.\n",
    "\n",
    "This dataset is a modified  <a href=\"https://www.kaggle.com/datasets/berkayalan/retail-sales-data?select=sales.csv\">sales</a> dataset taken from th Kaggle website. This data is collected from a Turkish retail company, covering the period from the beginning of 2017 to the end of 2019.\n",
    "It currently consists of 1033435 records.\n",
    "\n",
    "\n",
    "## Dataset Description\n",
    "\n",
    "\n",
    "**product_id**: This attribute represents the unique identifier for each product in the dataset. Each product is assigned a specific ID (e.g., P0001).\n",
    "\n",
    "**store_id**: This attribute represents the unique identifier for each store where the product is sold. Each store is assigned a specific ID (e.g., S0002).\n",
    "\n",
    "**date**: This attribute represents the date of sales data. It indicates when the sales, revenue, stock, and other information were recorded for a particular product in a specific store.\n",
    "\n",
    "**sales**: This attribute represents the number of units of the product sold on a given date in a particular store. It indicates the quantity of the product that was purchased.\n",
    "\n",
    "**revenue**: This attribute represents the total revenue generated from the sales of the product on a given date in a specific store. It is calculated by multiplying the number of units sold (sales) by the price per unit (price).\n",
    "\n",
    "**stock**: This attribute represents the quantity of the product available in stock at the beginning of the day on the specified date in the given store.\n",
    "\n",
    "**price**: This attribute represents the price per unit of the product on a given date in a specific store. It indicates the amount charged to the customer for each unit of the product.\n",
    "\n",
    "**promo_type_1**: This attribute represents the type of promotion (if any) applied to the product. It indicates the first type of promotional activity associated with the product, such as discounts, special offers, or marketing campaigns.\n",
    "\n",
    "**promo_bin_1**: This attribute represents the specific promotional bin (if any) associated with the first type of promotion. It provides additional details about the nature or category of the promotion.\n",
    "\n",
    "**promo_type_2**: This attribute represents the type of secondary promotion (if any) applied to the product. It indicates another type of promotional activity associated with the product, similar to promo_type_1 but potentially different in nature or timing.\n",
    "\n",
    "These attributes collectively provide detailed information about the sales, revenue, pricing, and promotional activities associated with each product in various stores over time.\n",
    "\n",
    "\n",
    "## Challenges\n",
    "Traditional data processing tools are inadequate for handling the velocity and volume of incoming sales data, leading to delays in analysis and decision-making. These delays hinder RetailWorld's ability to respond swiftly to market demands and optimize inventory and sales strategies.\n",
    "\n",
    "## Solution: Apache Spark\n",
    "To address these challenges, RetailWorld requires a scalable and efficient solution. Apache Spark, with its distributed computing architecture and robust processing capabilities, is the ideal solution for RetailWorld's data analytics needs. Spark's ability to parallelize data processing tasks across a cluster of nodes enables rapid aggregation and analysis of large datasets. Additionally, its fault-tolerant design ensures reliability and resilience against failures, making it a dependable choice for RetailWorld's critical data processing tasks.\n",
    "\n",
    "**To know more about the Distributed Architecture of Spark <a  href=\"https://cf-courses-data.static.labs.skills.network/BmowmNpC6oPodsERIBziYg/DistributedArchApacheSpark-v1.md.html\">Click here</a>**.\n",
    "\n"
   ]
  },
  {
   "cell_type": "markdown",
   "metadata": {},
   "source": [
    "### 1. Install and import the necessary spark libraries\n"
   ]
  },
  {
   "cell_type": "code",
   "execution_count": 1,
   "metadata": {
    "tags": []
   },
   "outputs": [],
   "source": [
    "# Install PySpark version 3.1.2 silently\n",
    "!pip install pyspark==3.1.2 -q\n",
    "# Install findSpark silently\n",
    "!pip install findspark -q"
   ]
  },
  {
   "cell_type": "code",
   "execution_count": 2,
   "metadata": {
    "tags": []
   },
   "outputs": [],
   "source": [
    "# Suppressing warnings by defining a function 'warn' that does nothing\n",
    "def warn(*args, **kwargs):\n",
    "    pass\n",
    "\n",
    "# Importing the 'warnings' module to handle warnings\n",
    "import warnings\n",
    "\n",
    "# Overriding the 'warn' function in the 'warnings' module with the defined function to suppress warnings\n",
    "warnings.warn = warn\n",
    "\n",
    "# Filtering out all warnings to be ignored\n",
    "warnings.filterwarnings('ignore')\n",
    "\n",
    "# FindSpark simplifies the process of using Apache Spark with Python\n",
    "# Importing the 'findspark' module\n",
    "import findspark\n",
    "\n",
    "# Initializing FindSpark to locate Spark installation\n",
    "findspark.init()\n",
    "\n",
    "# Importing SparkSession from pyspark.sql module\n",
    "from pyspark.sql import SparkSession\n"
   ]
  },
  {
   "cell_type": "markdown",
   "metadata": {},
   "source": [
    "### 2. Initializing the SparkContext\n",
    "\n",
    "The Driver Program initializes the Spark Context and sets the name of the Spark application to **\"RetailStoreSalesAnalysis\"**. \n"
   ]
  },
  {
   "cell_type": "code",
   "execution_count": 3,
   "metadata": {
    "tags": []
   },
   "outputs": [
    {
     "name": "stderr",
     "output_type": "stream",
     "text": [
      "25/03/04 20:52:08 WARN util.NativeCodeLoader: Unable to load native-hadoop library for your platform... using builtin-java classes where applicable\n",
      "Setting default log level to \"WARN\".\n",
      "To adjust logging level use sc.setLogLevel(newLevel). For SparkR, use setLogLevel(newLevel).\n",
      "25/03/04 20:52:10 WARN util.Utils: Service 'SparkUI' could not bind on port 4040. Attempting port 4041.\n"
     ]
    }
   ],
   "source": [
    "from pyspark import SparkContext\n",
    "from datetime import datetime\n",
    "\n",
    "# Initialize Spark context\n",
    "sc = SparkContext(appName=\"RetailStoreSalesAnalysis\")"
   ]
  },
  {
   "cell_type": "code",
   "execution_count": 4,
   "metadata": {
    "tags": []
   },
   "outputs": [
    {
     "name": "stdout",
     "output_type": "stream",
     "text": [
      "--2025-03-04 20:52:26--  https://cf-courses-data.s3.us.cloud-object-storage.appdomain.cloud/XXlNzqYcxqkTbllc-tL_0w/Retailsales.csv\n",
      "Resolving cf-courses-data.s3.us.cloud-object-storage.appdomain.cloud (cf-courses-data.s3.us.cloud-object-storage.appdomain.cloud)... 169.63.118.104, 169.63.118.104\n",
      "Connecting to cf-courses-data.s3.us.cloud-object-storage.appdomain.cloud (cf-courses-data.s3.us.cloud-object-storage.appdomain.cloud)|169.63.118.104|:443... connected.\n",
      "HTTP request sent, awaiting response... 200 OK\n",
      "Length: 47593992 (45M) [text/csv]\n",
      "Saving to: ‘Retailsales.csv’\n",
      "\n",
      "Retailsales.csv     100%[===================>]  45.39M  50.5MB/s    in 0.9s    \n",
      "\n",
      "2025-03-04 20:52:28 (50.5 MB/s) - ‘Retailsales.csv’ saved [47593992/47593992]\n",
      "\n"
     ]
    }
   ],
   "source": [
    "!wget https://cf-courses-data.s3.us.cloud-object-storage.appdomain.cloud/XXlNzqYcxqkTbllc-tL_0w/Retailsales.csv"
   ]
  },
  {
   "cell_type": "markdown",
   "metadata": {},
   "source": [
    "### 3. Loading Data:\n",
    "It starts by loading data from a CSV file named \"\"Retailsales.csv\" using SparkContext's textFile function. The data is loaded as an **RDD (Resilient Distributed Dataset)** named `raw_data`.\n"
   ]
  },
  {
   "cell_type": "code",
   "execution_count": 5,
   "metadata": {
    "tags": []
   },
   "outputs": [],
   "source": [
    "raw_data = sc.textFile(\"Retailsales.csv\")"
   ]
  },
  {
   "cell_type": "markdown",
   "metadata": {},
   "source": [
    "### 4 Parsing and Cleaning Data:\n",
    "\n",
    "The `parse_line`function is defined to parse each line of the CSV file into a structured format, extracting fields like **product ID, store ID, date, sales, revenue,** etc.\n",
    "The header line is removed from the RDD.\n",
    "The parsed data is filtered to remove records with missing or invalid data, such as zero or negative sales or price.\n"
   ]
  },
  {
   "cell_type": "code",
   "execution_count": 10,
   "metadata": {
    "tags": []
   },
   "outputs": [],
   "source": [
    "# Parse and Clean Data\n",
    "def parse_line(line):\n",
    "    # Split the line by comma to get fields\n",
    "    fields = line.split(\",\")\n",
    "    # Return a dictionary with parsed fields\n",
    "    return {\n",
    "        'product_id': fields[0],\n",
    "        'store_id': fields[1],\n",
    "        'date': fields[2],\n",
    "        'sales': float(fields[3]),\n",
    "        'revenue': float(fields[4]),\n",
    "        'stock': float(fields[5]),\n",
    "        'price': float(fields[6]),\n",
    "        'promo_type_1': fields[7],\n",
    "        'promo_type_2': fields[9]\n",
    "    }\n",
    "\n",
    "# Remove the header line\n",
    "header = raw_data.first()\n",
    "\n",
    "raw_data_no_header = raw_data.filter(lambda line: line != header)\n",
    "\n",
    "# Parse the lines into a structured format\n",
    "parsed_data = raw_data_no_header.map(parse_line)\n",
    "parsed_data = parsed_data.filter(lambda x: x is not None)\n",
    "\n",
    "\n",
    "# Filter out records with missing or invalid data\n",
    "cleaned_data = parsed_data.filter(lambda x: x['sales'] > 0 and x['price'] > 0)\n",
    "\n",
    "\n"
   ]
  },
  {
   "cell_type": "markdown",
   "metadata": {},
   "source": [
    "### 5. Partitioning:\n",
    "\n",
    "The number of partitions in the cleaned data RDD is checked and printed\n"
   ]
  },
  {
   "cell_type": "code",
   "execution_count": 8,
   "metadata": {
    "tags": []
   },
   "outputs": [
    {
     "name": "stdout",
     "output_type": "stream",
     "text": [
      "Number of partitions in cleaned_data: 2\n"
     ]
    }
   ],
   "source": [
    "# Check the number of partitions\n",
    "print(f\"Number of partitions in cleaned_data: {cleaned_data.getNumPartitions()}\")"
   ]
  },
  {
   "cell_type": "markdown",
   "metadata": {},
   "source": [
    "### 6. Partition-wise Count:\n",
    "\n",
    "Here a function `count_in_partition` is defined to count the number of records in each partition of the RDD.\n",
    "This function is applied using `mapPartitionsWithIndex` to get the count of records in each partition, and the results are printed.\n"
   ]
  },
  {
   "cell_type": "code",
   "execution_count": 11,
   "metadata": {
    "tags": []
   },
   "outputs": [
    {
     "name": "stderr",
     "output_type": "stream",
     "text": [
      "[Stage 4:>                                                          (0 + 2) / 2]"
     ]
    },
    {
     "name": "stdout",
     "output_type": "stream",
     "text": [
      "Number of records in each partition:\n",
      "Partition 0: 97534 records\n",
      "Partition 1: 99127 records\n"
     ]
    },
    {
     "name": "stderr",
     "output_type": "stream",
     "text": [
      "                                                                                \r"
     ]
    }
   ],
   "source": [
    "# Function to count the number of records in each partition\n",
    "def count_in_partition(index, iterator):\n",
    "    count = sum(1 for _ in iterator)\n",
    "    yield (index, count)\n",
    "\n",
    "# Get the count of records in each partition\n",
    "partitions_info = cleaned_data.mapPartitionsWithIndex(count_in_partition).collect()\n",
    "print(\"Number of records in each partition:\")\n",
    "for partition, count in partitions_info:\n",
    "    print(f\"Partition {partition}: {count} records\")\n"
   ]
  },
  {
   "cell_type": "markdown",
   "metadata": {},
   "source": [
    "### 7.Aggregations:\n",
    "\n",
    "Several aggregations are performed on the cleaned data RDD:\n",
    "- Total sales and revenue per product.\n",
    "- Total sales and revenue per store.\n",
    "- Average price per product.\n",
    "- Sales and revenue per promotion type 1 and promotion type 2.\n",
    "- Stock analysis per product.\n",
    "- Each aggregation is performed using map to transform the data into key-value pairs and reduceByKey to aggregate the values for each key.\n"
   ]
  },
  {
   "cell_type": "markdown",
   "metadata": {},
   "source": [
    "#### a. Total Sales and Revenue per Product:\n",
    "This aggregation calculates the total sales and revenue for each product.\n",
    "It first maps each record in cleaned_data to a key-value pair, where the key is the product ID and the value is a tuple containing sales and revenue.\n",
    "Then, it uses reduceByKey to aggregate the sales and revenue values for each product ID.\n"
   ]
  },
  {
   "cell_type": "code",
   "execution_count": 12,
   "metadata": {
    "tags": []
   },
   "outputs": [
    {
     "name": "stdout",
     "output_type": "stream",
     "text": [
      "Number of partitions in cleaned_data: 2\n"
     ]
    }
   ],
   "source": [
    "# Aggregation 1: Total Sales and Revenue per Product\n",
    "sales_revenue_per_product = cleaned_data.map(lambda x: (x['product_id'], (x['sales'], x['revenue']))) \\\n",
    "                                        .reduceByKey(lambda a, b: (a[0] + b[0], a[1] + b[1]))\n",
    "print(f\"Number of partitions in cleaned_data: {cleaned_data.getNumPartitions()}\")"
   ]
  },
  {
   "cell_type": "markdown",
   "metadata": {},
   "source": [
    "#### b. Total Sales and Revenue per Store:\n",
    "This aggregation calculates the total sales and revenue for each store.\n",
    "Similar to the first aggregation, it maps each record to a key-value pair with the store ID as the key and a tuple containing sales and revenue as the value.\n",
    "It then uses reduceByKey to aggregate the sales and revenue values for each store ID.\n"
   ]
  },
  {
   "cell_type": "code",
   "execution_count": null,
   "metadata": {},
   "outputs": [],
   "source": [
    "# Aggregation 2: Total Sales and Revenue per Store\n",
    "sales_revenue_per_store = cleaned_data.map(lambda x: (x['store_id'], (x['sales'], x['revenue']))) \\\n",
    "                                      .reduceByKey(lambda a, b: (a[0] + b[0], a[1] + b[1]))"
   ]
  },
  {
   "cell_type": "markdown",
   "metadata": {},
   "source": [
    "#### c.Average Price per Product:\n",
    "This aggregation calculates the average price for each product.\n",
    "It first maps each record to a key-value pair with the product ID as the key and a tuple containing the price and a count of 1.\n",
    "Then, it uses reduceByKey to aggregate the total price and count of prices for each product.\n",
    "Finally, it calculates the average price by dividing the total price by the count.\n"
   ]
  },
  {
   "cell_type": "code",
   "execution_count": null,
   "metadata": {},
   "outputs": [],
   "source": [
    "# Aggregation 3: Average Price per Product\n",
    "total_price_count_per_product = cleaned_data.map(lambda x: (x['product_id'], (x['price'], 1))) \\\n",
    "                                            .reduceByKey(lambda a, b: (a[0] + b[0], a[1] + b[1]))\n",
    "average_price_per_product = total_price_count_per_product.mapValues(lambda x: x[0] / x[1])"
   ]
  },
  {
   "cell_type": "markdown",
   "metadata": {},
   "source": [
    "#### d. Sales and Revenue per Promotion Type:\n",
    "These aggregations calculate the total sales and revenue for each promotion type (promo_type_1 and promo_type_2).\n",
    "Each record is mapped to a key-value pair with the promotion type as the key and a tuple containing sales and revenue as the value.\n",
    "Then, reduceByKey is used to aggregate the sales and revenue values for each promotion type.\n"
   ]
  },
  {
   "cell_type": "code",
   "execution_count": null,
   "metadata": {},
   "outputs": [],
   "source": [
    "# Aggregation 4: Sales and Revenue per Promotion Type\n",
    "sales_revenue_per_promo_1 = cleaned_data.map(lambda x: (x['promo_type_1'], (x['sales'], x['revenue']))) \\\n",
    "                                        .reduceByKey(lambda a, b: (a[0] + b[0], a[1] + b[1]))\n",
    "sales_revenue_per_promo_2 = cleaned_data.map(lambda x: (x['promo_type_2'], (x['sales'], x['revenue']))) \\\n",
    "                                        .reduceByKey(lambda a, b: (a[0] + b[0], a[1] + b[1]))"
   ]
  },
  {
   "cell_type": "markdown",
   "metadata": {},
   "source": [
    "### 8. Stock Analysis per Product:\n",
    "This aggregation calculates the total stock for each product.\n",
    "Each record is mapped to a key-value pair with the product ID as the key and the stock as the value.\n",
    "Then, reduceByKey is used to aggregate the stock values for each product.\n"
   ]
  },
  {
   "cell_type": "code",
   "execution_count": null,
   "metadata": {},
   "outputs": [],
   "source": [
    "# Aggregation 5: Stock Analysis per Product\n",
    "stock_per_product = cleaned_data.map(lambda x: (x['product_id'], x['stock'])) \\\n",
    "                                .reduceByKey(lambda a, b: a + b)\n"
   ]
  },
  {
   "cell_type": "markdown",
   "metadata": {},
   "source": [
    "### 9. Saving Results:\n",
    "\n",
    "The results of each aggregation are saved to HDFS (Hadoop Distributed File System) using saveAsTextFile.\n"
   ]
  },
  {
   "cell_type": "code",
   "execution_count": null,
   "metadata": {},
   "outputs": [],
   "source": [
    "# Save results to HDFS\n",
    "sales_revenue_per_product.saveAsTextFile(\"sales_revenue_per_product\")\n",
    "sales_revenue_per_store.saveAsTextFile(\"sales_revenue_per_store\")\n",
    "average_price_per_product.saveAsTextFile(\"average_price_per_product\")\n",
    "sales_revenue_per_promo_1.saveAsTextFile(\"sales_revenue_per_promo_1\")\n",
    "sales_revenue_per_promo_2.saveAsTextFile(\"sales_revenue_per_promo_2\")\n",
    "stock_per_product.saveAsTextFile(\"stock_per_product\")\n"
   ]
  },
  {
   "cell_type": "markdown",
   "metadata": {},
   "source": [
    "### 10. Printing Results:\n",
    "\n",
    "Finally, we prints the results of each aggregation by collecting the data from the RDDs and iterating over them.\n"
   ]
  },
  {
   "cell_type": "code",
   "execution_count": null,
   "metadata": {},
   "outputs": [],
   "source": [
    "# Print results\n",
    "print(\"Total Sales and Revenue per Product:\")\n",
    "print(\"=\" * 35)\n",
    "for product in sales_revenue_per_product.collect():\n",
    "    # Create the format string with appropriate padding\n",
    "    format_string = f\"{{:<5}} | {{:<9}} | {{:<9}}\"\n",
    "\n",
    "    # Print the values using the format string\n",
    "    print(format_string.format(str(product[0]), str(round(product[1][0],2)), str(round(product[1][1],2))))\n",
    "\n",
    "print(\"\\n\\nTotal Sales and Revenue per Store:\")\n",
    "print(\"=\" * 35)\n",
    "for store in sales_revenue_per_store.collect():\n",
    "    format_string = f\"{{:<5}} | {{:<9}} | {{:<9}}\"\n",
    "    print(format_string.format(str(store[0]), str(round(store[1][0],2)), str(round(store[1][1],2))))\n",
    "\n",
    "print(\"\\n\\nAverage Price per Product:\")\n",
    "print(\"=\" * 30)\n",
    "\n",
    "for product in average_price_per_product.collect():\n",
    "    format_string = f\"{{:<5}} | {{:<9}}\"\n",
    "    print(format_string.format(str(product[0]), str(round(product[1],2))))\n",
    "\n",
    "print(\"\\n\\nSales and Revenue per Promotion Type 1:\")\n",
    "print(\"=\" * 40)\n",
    "for promo in sales_revenue_per_promo_1.collect():\n",
    "    format_string = f\"{{:<5}} | {{:<9}} | {{:<9}}\"\n",
    "    print(format_string.format(str(promo[0]), str(round(promo[1][0],2)), str(round(promo[1][1],2))))\n",
    "\n",
    "print(\"\\n\\nSales and Revenue per Promotion Type 2:\")\n",
    "print(\"=\" * 40)\n",
    "for promo in sales_revenue_per_promo_2.collect():\n",
    "    format_string = f\"{{:<5}} | {{:<9}} | {{:<9}}\"\n",
    "\n",
    "    print(format_string.format(str(promo[0]), str(round(promo[1][0],2)), str(round(promo[1][1],2))))\n",
    "\n",
    "print(\"\\n\\nStock per Product:\")\n",
    "print(\"=\" * 20)\n",
    "for product in stock_per_product.collect():\n",
    "    format_string = f\"{{:<5}} | {{:<9}}\"\n",
    "    print(format_string.format(str(product[0]), str(round(product[1],2))))\n",
    "\n"
   ]
  },
  {
   "cell_type": "markdown",
   "metadata": {},
   "source": [
    "### 11.Cleanup:\n",
    "\n",
    "The Spark context is stopped to release the resources.\n"
   ]
  },
  {
   "cell_type": "code",
   "execution_count": null,
   "metadata": {},
   "outputs": [],
   "source": [
    "# Stop the Spark context\n",
    "sc.stop()\n"
   ]
  },
  {
   "cell_type": "markdown",
   "metadata": {},
   "source": [
    "## Author(s)\n",
    "\n",
    "Lakshmi Holla\n",
    "\n",
    "## Other Contributors\n",
    "Malika Singla\n",
    "\n",
    "\n"
   ]
  }
 ],
 "metadata": {
  "kernelspec": {
   "display_name": "Python 3 (ipykernel)",
   "language": "python",
   "name": "python3"
  },
  "language_info": {
   "codemirror_mode": {
    "name": "ipython",
    "version": 3
   },
   "file_extension": ".py",
   "mimetype": "text/x-python",
   "name": "python",
   "nbconvert_exporter": "python",
   "pygments_lexer": "ipython3",
   "version": "3.12.7"
  },
  "prev_pub_hash": "88d818beea56e3725e531236e9db7678e45a99a432baaad8c37d2d9ea80626b2"
 },
 "nbformat": 4,
 "nbformat_minor": 4
}
