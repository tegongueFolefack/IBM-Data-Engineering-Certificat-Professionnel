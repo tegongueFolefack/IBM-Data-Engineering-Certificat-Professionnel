{
 "cells": [
  {
   "cell_type": "code",
   "execution_count": 1,
   "id": "80406de0-75d4-4e92-89c7-7dae206c0a11",
   "metadata": {},
   "outputs": [
    {
     "ename": "ModuleNotFoundError",
     "evalue": "No module named 'neo4j'",
     "output_type": "error",
     "traceback": [
      "\u001b[0;31m---------------------------------------------------------------------------\u001b[0m",
      "\u001b[0;31mModuleNotFoundError\u001b[0m                       Traceback (most recent call last)",
      "Cell \u001b[0;32mIn[1], line 1\u001b[0m\n\u001b[0;32m----> 1\u001b[0m \u001b[38;5;28;01mfrom\u001b[39;00m \u001b[38;5;21;01mneo4j\u001b[39;00m \u001b[38;5;28;01mimport\u001b[39;00m GraphDatabase\n\u001b[1;32m      3\u001b[0m \u001b[38;5;66;03m# Connexion à la base de données Neo4j\u001b[39;00m\n\u001b[1;32m      4\u001b[0m uri \u001b[38;5;241m=\u001b[39m \u001b[38;5;124m\"\u001b[39m\u001b[38;5;124mbolt://localhost:7687\u001b[39m\u001b[38;5;124m\"\u001b[39m\n",
      "\u001b[0;31mModuleNotFoundError\u001b[0m: No module named 'neo4j'"
     ]
    }
   ],
   "source": [
    "from neo4j import GraphDatabase\n",
    "\n",
    "# Connexion à la base de données Neo4j\n",
    "uri = \"bolt://localhost:7687\"\n",
    "driver = GraphDatabase.driver(uri, auth=(\"neo4j\", \"medarine672\"))\n",
    "\n",
    "# Fonction pour récupérer les amis d'une personne\n",
    "def get_friends(tx, name):\n",
    "    query = \"MATCH (p:Person {nom: $name})-[:AMI_DE]->(friend) RETURN friend.nom\"\n",
    "    result = tx.run(query, name=name)\n",
    "    return [record[\"friend.nom\"] for record in result]\n",
    "\n",
    "# Exécution de la requête dans une session Neo4j\n",
    "with driver.session() as session:\n",
    "    friends = session.read_transaction(get_friends, \"Alice\")\n",
    "    print(f\"Amis d'Alice : {friends}\")\n",
    "\n",
    "# Fermeture de la connexion\n",
    "driver.close()\n"
   ]
  },
  {
   "cell_type": "code",
   "execution_count": null,
   "id": "345b2408-a7ca-46ac-91ed-d80d1d2c2eb9",
   "metadata": {},
   "outputs": [],
   "source": []
  },
  {
   "cell_type": "code",
   "execution_count": null,
   "id": "267a7b0e-48d2-4e88-bfa4-72e056e57b2c",
   "metadata": {},
   "outputs": [],
   "source": []
  },
  {
   "cell_type": "code",
   "execution_count": 3,
   "id": "0724d068-0c14-489a-af66-766145910539",
   "metadata": {},
   "outputs": [
    {
     "name": "stdout",
     "output_type": "stream",
     "text": [
      "Collecting neo4j\n",
      "  Downloading neo4j-5.27.0-py3-none-any.whl.metadata (5.9 kB)\n",
      "Requirement already satisfied: pytz in /home/tegongue/anaconda3/lib/python3.12/site-packages (from neo4j) (2024.1)\n",
      "Downloading neo4j-5.27.0-py3-none-any.whl (301 kB)\n",
      "Installing collected packages: neo4j\n",
      "Successfully installed neo4j-5.27.0\n",
      "Note: you may need to restart the kernel to use updated packages.\n"
     ]
    }
   ],
   "source": [
    "pip install neo4j"
   ]
  },
  {
   "cell_type": "code",
   "execution_count": 5,
   "id": "ad237448-cbde-4149-8a11-b80e5ffea890",
   "metadata": {},
   "outputs": [
    {
     "name": "stdout",
     "output_type": "stream",
     "text": [
      "Amis d'Alice : ['Emily', 'Bob']\n"
     ]
    },
    {
     "name": "stderr",
     "output_type": "stream",
     "text": [
      "/tmp/ipykernel_85415/969845694.py:15: DeprecationWarning: read_transaction has been renamed to execute_read\n",
      "  friends = session.read_transaction(get_friends, \"Alice\")\n"
     ]
    }
   ],
   "source": [
    "from neo4j import GraphDatabase\n",
    "\n",
    "# Connexion à la base de données Neo4j\n",
    "uri = \"bolt://localhost:7687\"\n",
    "driver = GraphDatabase.driver(uri, auth=(\"neo4j\", \"medarine672\"))\n",
    "\n",
    "# Fonction pour récupérer les amis d'une personne\n",
    "def get_friends(tx, name):\n",
    "    query = \"MATCH (p:Person {nom: $name})-[:AMI_DE]->(friend) RETURN friend.nom\"\n",
    "    result = tx.run(query, name=name)\n",
    "    return [record[\"friend.nom\"] for record in result]\n",
    "\n",
    "# Exécution de la requête dans une session Neo4j\n",
    "with driver.session() as session:\n",
    "    friends = session.read_transaction(get_friends, \"Alice\")\n",
    "    print(f\"Amis d'Alice : {friends}\")\n",
    "\n",
    "# Fermeture de la connexion\n",
    "driver.close()\n"
   ]
  },
  {
   "cell_type": "code",
   "execution_count": 7,
   "id": "6bb8e73f-2c10-45cf-861e-d9f86a4f7c53",
   "metadata": {},
   "outputs": [
    {
     "name": "stdout",
     "output_type": "stream",
     "text": [
      "\u001b[33mWARNING: Retrying (Retry(total=4, connect=None, read=None, redirect=None, status=None)) after connection broken by 'NewConnectionError('<pip._vendor.urllib3.connection.HTTPSConnection object at 0x78473e7c9520>: Failed to establish a new connection: [Errno -3] Échec temporaire dans la résolution du nom')': /simple/redis/\u001b[0m\u001b[33m\n",
      "\u001b[0m\u001b[33mWARNING: Retrying (Retry(total=3, connect=None, read=None, redirect=None, status=None)) after connection broken by 'NewConnectionError('<pip._vendor.urllib3.connection.HTTPSConnection object at 0x78473e53ff20>: Failed to establish a new connection: [Errno -3] Échec temporaire dans la résolution du nom')': /simple/redis/\u001b[0m\u001b[33m\n",
      "\u001b[0m\u001b[33mWARNING: Retrying (Retry(total=2, connect=None, read=None, redirect=None, status=None)) after connection broken by 'NewConnectionError('<pip._vendor.urllib3.connection.HTTPSConnection object at 0x78473e557ce0>: Failed to establish a new connection: [Errno -3] Échec temporaire dans la résolution du nom')': /simple/redis/\u001b[0m\u001b[33m\n",
      "\u001b[0m\u001b[33mWARNING: Retrying (Retry(total=1, connect=None, read=None, redirect=None, status=None)) after connection broken by 'NewConnectionError('<pip._vendor.urllib3.connection.HTTPSConnection object at 0x78473e5577d0>: Failed to establish a new connection: [Errno -3] Échec temporaire dans la résolution du nom')': /simple/redis/\u001b[0m\u001b[33m\n",
      "\u001b[0mCollecting redis\n",
      "  Downloading redis-5.2.1-py3-none-any.whl.metadata (9.1 kB)\n",
      "Downloading redis-5.2.1-py3-none-any.whl (261 kB)\n",
      "Installing collected packages: redis\n",
      "Successfully installed redis-5.2.1\n",
      "Note: you may need to restart the kernel to use updated packages.\n"
     ]
    }
   ],
   "source": [
    "pip install redis\n"
   ]
  },
  {
   "cell_type": "code",
   "execution_count": 9,
   "id": "7e7de0de-cd14-44ec-9a92-7f1edc13fea9",
   "metadata": {},
   "outputs": [
    {
     "name": "stdout",
     "output_type": "stream",
     "text": [
      "Connexion réussie : True\n"
     ]
    }
   ],
   "source": [
    "\n",
    "import redis\n",
    "\n",
    "# Connexion à Redis\n",
    "redis_client = redis.StrictRedis(host='localhost', port=6379, db=0)\n",
    "\n",
    "# Tester la connexion\n",
    "pong = redis_client.ping()\n",
    "\n",
    "# Afficher le résultat de la connexion\n",
    "print(f\"Connexion réussie : {pong}\")\n"
   ]
  },
  {
   "cell_type": "code",
   "execution_count": 11,
   "id": "b77f0c19-7c5b-458b-9d41-becdfe493b13",
   "metadata": {},
   "outputs": [
    {
     "name": "stdout",
     "output_type": "stream",
     "text": [
      "Clé 'name' ajoutée avec la valeur 'Alice'\n"
     ]
    }
   ],
   "source": [
    "import redis\n",
    "\n",
    "# Connexion à Redis\n",
    "redis_client = redis.StrictRedis(host='localhost', port=6379, db=0)\n",
    "\n",
    "# Créer une clé-valeur\n",
    "redis_client.set(\"name\", \"Alice\")\n",
    "\n",
    "# Afficher le message de confirmation\n",
    "print(\"Clé 'name' ajoutée avec la valeur 'Alice'\")\n"
   ]
  },
  {
   "cell_type": "code",
   "execution_count": 13,
   "id": "25261315-2802-4a9c-8ff8-dd9c76184222",
   "metadata": {},
   "outputs": [
    {
     "name": "stdout",
     "output_type": "stream",
     "text": [
      "Clé 'temp_key' ajoutée avec expiration de 10 secondes\n"
     ]
    }
   ],
   "source": [
    "import redis\n",
    "\n",
    "# Connexion à Redis\n",
    "redis_client = redis.StrictRedis(host='localhost', port=6379, db=0)\n",
    "\n",
    "# Créer une clé temporaire avec expiration\n",
    "redis_client.setex(\"temp_key\", 10, \"Donnée temporaire\")\n",
    "\n",
    "# Afficher le message de confirmation\n",
    "print(\"Clé 'temp_key' ajoutée avec expiration de 10 secondes\")\n"
   ]
  },
  {
   "cell_type": "code",
   "execution_count": 15,
   "id": "e3023d62-722c-445b-8809-31af530067f9",
   "metadata": {},
   "outputs": [
    {
     "ename": "SyntaxError",
     "evalue": "invalid syntax (158437973.py, line 1)",
     "output_type": "error",
     "traceback": [
      "\u001b[0;36m  Cell \u001b[0;32mIn[15], line 1\u001b[0;36m\u001b[0m\n\u001b[0;31m    corriger redis_client . mset ({ \" key1 \" : \" valeur1 \" , \" key2 \" : \" valeur2 \" })\u001b[0m\n\u001b[0m             ^\u001b[0m\n\u001b[0;31mSyntaxError\u001b[0m\u001b[0;31m:\u001b[0m invalid syntax\n"
     ]
    }
   ],
   "source": [
    "corriger redis_client . mset ({ \" key1 \" : \" valeur1 \" , \" key2 \" : \" valeur2 \" })\n",
    "print ( \" Plusieurs ␣ c l s ␣ a j o u t e s \" )\n"
   ]
  },
  {
   "cell_type": "code",
   "execution_count": 17,
   "id": "4b4f846c-ac34-406a-aa66-1bad82f51be7",
   "metadata": {},
   "outputs": [
    {
     "name": "stdout",
     "output_type": "stream",
     "text": [
      "Plusieurs clés ajoutées\n"
     ]
    }
   ],
   "source": [
    "import redis\n",
    "\n",
    "# Connexion à Redis\n",
    "redis_client = redis.StrictRedis(host='localhost', port=6379, db=0)\n",
    "\n",
    "# Ajouter plusieurs clés et valeurs\n",
    "redis_client.mset({\"key1\": \"valeur1\", \"key2\": \"valeur2\"})\n",
    "\n",
    "# Afficher le message de confirmation\n",
    "print(\"Plusieurs clés ajoutées\")\n"
   ]
  },
  {
   "cell_type": "markdown",
   "id": "ea475d37-8855-44ae-84fd-c3fd0043de98",
   "metadata": {},
   "source": [
    "import redis\n",
    "\n",
    "# Connexion à Redis\n",
    "redis_client = redis.StrictRedis(host='localhost', port=6379, db=0)\n",
    "\n",
    "# Récupérer la valeur de la clé 'name' et la décoder\n",
    "value = redis_client.get(\"name\").decode()\n",
    "\n",
    "# Afficher la valeur récupérée\n",
    "print(f\"Valeur de 'name' : {value}\")\n"
   ]
  },
  {
   "cell_type": "code",
   "execution_count": 21,
   "id": "7014796c-93b0-4971-b745-b6215a01c6da",
   "metadata": {},
   "outputs": [
    {
     "name": "stdout",
     "output_type": "stream",
     "text": [
      "Valeur de 'name' : Alice\n"
     ]
    }
   ],
   "source": [
    "value = redis_client.get(\"name\").decode()\n",
    "print(f\"Valeur de 'name' : {value}\")\n"
   ]
  },
  {
   "cell_type": "code",
   "execution_count": 23,
   "id": "c2d1dc25-b77e-4502-a0f3-2fa8ce74888e",
   "metadata": {},
   "outputs": [
    {
     "name": "stdout",
     "output_type": "stream",
     "text": [
      "Valeur de 'name' : Alice\n"
     ]
    }
   ],
   "source": [
    "# Lire une valeur depuis Redis\n",
    "value = redis_client.get(\"name\").decode()\n",
    "print(f\"Valeur de 'name' : {value}\")\n"
   ]
  },
  {
   "cell_type": "code",
   "execution_count": 25,
   "id": "57f633e5-2e67-4280-bc3f-caa3e806977e",
   "metadata": {},
   "outputs": [
    {
     "name": "stdout",
     "output_type": "stream",
     "text": [
      "Valeurs : [b'valeur1', b'valeur2']\n"
     ]
    }
   ],
   "source": [
    "# Lire plusieurs valeurs depuis Redis\n",
    "values = redis_client.mget(\"key1\", \"key2\")\n",
    "print(f\"Valeurs : {values}\")\n"
   ]
  },
  {
   "cell_type": "code",
   "execution_count": 27,
   "id": "29dc0b75-4204-43cf-bb26-a172cca6f8d3",
   "metadata": {},
   "outputs": [
    {
     "name": "stdout",
     "output_type": "stream",
     "text": [
      "La clé 'name' existe ? : True\n"
     ]
    }
   ],
   "source": [
    "# Vérifier si une clé existe\n",
    "exists = redis_client.exists(\"name\")\n",
    "print(f\"La clé 'name' existe ? : {bool(exists)}\")\n"
   ]
  },
  {
   "cell_type": "code",
   "execution_count": 29,
   "id": "f3f6bfdc-a042-4842-aa92-776803a815f5",
   "metadata": {},
   "outputs": [
    {
     "name": "stdout",
     "output_type": "stream",
     "text": [
      "Valeur de 'name' mise à jour avec 'Bob'\n"
     ]
    }
   ],
   "source": [
    "# Mettre à jour une valeur\n",
    "redis_client.set(\"name\", \"Bob\")\n",
    "print(\"Valeur de 'name' mise à jour avec 'Bob'\")\n"
   ]
  },
  {
   "cell_type": "code",
   "execution_count": 31,
   "id": "ed67ff4f-1fe7-4f43-bb38-2a729dd8d651",
   "metadata": {},
   "outputs": [
    {
     "name": "stdout",
     "output_type": "stream",
     "text": [
      "Compteur mis à jour : 2\n"
     ]
    }
   ],
   "source": [
    "# Initialiser une clé compteur\n",
    "redis_client.set(\"counter\", 1)\n",
    "# Incrémenter le compteur\n",
    "redis_client.incr(\"counter\")\n",
    "# Récupérer et afficher la valeur du compteur\n",
    "print(f\"Compteur mis à jour : {redis_client.get('counter').decode()}\")\n"
   ]
  },
  {
   "cell_type": "code",
   "execution_count": 33,
   "id": "161b7ebc-d5a8-4aa5-9055-e21f1fae89ec",
   "metadata": {},
   "outputs": [
    {
     "name": "stdout",
     "output_type": "stream",
     "text": [
      "TTL de 'temp_key' mis à jour à 20 secondes\n"
     ]
    }
   ],
   "source": [
    "# Mettre à jour le TTL d'une clé\n",
    "redis_client.expire(\"temp_key\", 20)\n",
    "print(\"TTL de 'temp_key' mis à jour à 20 secondes\")\n"
   ]
  },
  {
   "cell_type": "code",
   "execution_count": 35,
   "id": "ef9ad3ca-69c0-4aae-b458-3a10d2326ec6",
   "metadata": {},
   "outputs": [
    {
     "name": "stdout",
     "output_type": "stream",
     "text": [
      "La clé 'name' supprimée\n"
     ]
    }
   ],
   "source": [
    "# Supprimer une clé\n",
    "redis_client.delete(\"name\")\n",
    "print(\"La clé 'name' supprimée\")\n"
   ]
  },
  {
   "cell_type": "code",
   "execution_count": 37,
   "id": "59185ffa-a6d3-4dbd-b768-a083a236d6e3",
   "metadata": {},
   "outputs": [
    {
     "name": "stdout",
     "output_type": "stream",
     "text": [
      "Les clés 'key1' et 'key2' supprimées\n"
     ]
    }
   ],
   "source": [
    "# Supprimer plusieurs clés\n",
    "redis_client.delete(\"key1\", \"key2\")\n",
    "print(\"Les clés 'key1' et 'key2' supprimées\")\n"
   ]
  },
  {
   "cell_type": "code",
   "execution_count": 39,
   "id": "b233cb63-1242-4760-a053-781aefcb358f",
   "metadata": {},
   "outputs": [
    {
     "name": "stdout",
     "output_type": "stream",
     "text": [
      "Toutes les données Redis ont été supprimées\n"
     ]
    }
   ],
   "source": [
    "# Vider toutes les données dans Redis\n",
    "redis_client.flushall()\n",
    "print(\"Toutes les données Redis ont été supprimées\")\n"
   ]
  },
  {
   "cell_type": "code",
   "execution_count": 41,
   "id": "b1c16f85-f7bf-4a17-806d-47ffa9b86671",
   "metadata": {},
   "outputs": [
    {
     "name": "stdout",
     "output_type": "stream",
     "text": [
      "Clé 'temp_key' ajoutée avec expiration de 5 secondes.\n",
      "Valeur de 'temp_key' avant expiration : Cette clé expire bientôt\n",
      "Valeur après expiration : None\n"
     ]
    }
   ],
   "source": [
    "import time\n",
    "\n",
    "# Définir une clé avec expiration de 5 secondes\n",
    "redis_client.setex(\"temp_key\", 5, \"Cette clé expire bientôt\")\n",
    "print(\"Clé 'temp_key' ajoutée avec expiration de 5 secondes.\")\n",
    "\n",
    "# Lire la clé avant expiration\n",
    "print(f\"Valeur de 'temp_key' avant expiration : {redis_client.get('temp_key').decode()}\")\n",
    "\n",
    "# Attendre 6 secondes\n",
    "time.sleep(6)\n",
    "\n",
    "# Tenter de récupérer la clé après expiration\n",
    "expired_value = redis_client.get(\"temp_key\")\n",
    "print(f\"Valeur après expiration : {expired_value}\")\n"
   ]
  },
  {
   "cell_type": "code",
   "execution_count": 43,
   "id": "1e51233f-26e9-4de6-a21f-19ecf60afb87",
   "metadata": {},
   "outputs": [
    {
     "name": "stdout",
     "output_type": "stream",
     "text": [
      "Compteur initialisé à 0.\n",
      "Incrément 1 : 1\n",
      "Incrément 2 : 2\n",
      "Incrément 3 : 3\n",
      "Incrément 4 : 4\n",
      "Incrément 5 : 5\n",
      "Valeur finale du compteur : 5\n"
     ]
    }
   ],
   "source": [
    "# Initialiser un compteur\n",
    "redis_client.set(\"counter\", 0)\n",
    "print(\"Compteur initialisé à 0.\")\n",
    "\n",
    "# Incrémenter le compteur 5 fois\n",
    "for i in range(5):\n",
    "    counter_value = redis_client.incr(\"counter\")\n",
    "    print(f\"Incrément {i + 1} : {counter_value}\")\n",
    "\n",
    "# Récupérer la valeur finale\n",
    "final_value = redis_client.get(\"counter\").decode()\n",
    "print(f\"Valeur finale du compteur : {final_value}\")\n"
   ]
  },
  {
   "cell_type": "code",
   "execution_count": null,
   "id": "31967ec4-0f53-4da6-beac-cf0fbee17aa6",
   "metadata": {},
   "outputs": [],
   "source": []
  }
 ],
 "metadata": {
  "kernelspec": {
   "display_name": "Python 3 (ipykernel)",
   "language": "python",
   "name": "python3"
  },
  "language_info": {
   "codemirror_mode": {
    "name": "ipython",
    "version": 3
   },
   "file_extension": ".py",
   "mimetype": "text/x-python",
   "name": "python",
   "nbconvert_exporter": "python",
   "pygments_lexer": "ipython3",
   "version": "3.12.7"
  }
 },
 "nbformat": 4,
 "nbformat_minor": 5
}
